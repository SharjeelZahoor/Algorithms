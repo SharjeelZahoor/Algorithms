{
  "cells": [
    {
      "cell_type": "markdown",
      "metadata": {
        "id": "view-in-github",
        "colab_type": "text"
      },
      "source": [
        "<a href=\"https://colab.research.google.com/github/SharjeelZahoor/Algorithms/blob/main/1.6.%20maximum%20distance%20aggressive%20cows.ipynb\" target=\"_parent\"><img src=\"https://colab.research.google.com/assets/colab-badge.svg\" alt=\"Open In Colab\"/></a>"
      ]
    },
    {
      "cell_type": "markdown",
      "source": [
        "Here's a quick overview:\n",
        "\n",
        "Binary Search to determine the maximum minimum distance.\n",
        "\n",
        "Greedy Algorithm to check the feasibility of placing cows at a certain distance.\n",
        "\n",
        "This approach not only deepened my understanding of binary search but also\n",
        "\n",
        "reinforced the importance of combining different strategies to solve complex\n",
        "\n",
        "problems."
      ],
      "metadata": {
        "id": "oN7notWofD-X"
      }
    },
    {
      "cell_type": "code",
      "execution_count": 1,
      "metadata": {
        "colab": {
          "base_uri": "https://localhost:8080/"
        },
        "id": "v40rxncIBGs-",
        "outputId": "2e9a30c8-4494-4e9e-f554-fe4faa19a414"
      },
      "outputs": [
        {
          "output_type": "stream",
          "name": "stdout",
          "text": [
            "maximum distance between 2 aggressive cows is 5\n"
          ]
        }
      ],
      "source": [
        "# finding the largest possible distance between the aggressive cows\n",
        "def aggressive_cows(lst, k):\n",
        "    s = 0\n",
        "    e = max(lst) - min(lst)\n",
        "    mid = s + (e-s) // 2\n",
        "    ans = -1\n",
        "    while(s<=e):\n",
        "        if ispossible(lst, k, mid):\n",
        "            ans = mid\n",
        "            s = mid + 1\n",
        "        else:\n",
        "            e = mid - 1\n",
        "        mid = s + (e - s)//2\n",
        "    return ans\n",
        "def ispossible(lst, k, mid):\n",
        "    count = 1\n",
        "    place = lst[0]\n",
        "    for i in range(1,len(lst)):\n",
        "        if lst[i] - place >= mid:\n",
        "            count+=1\n",
        "            if count == k:\n",
        "                return True\n",
        "            place = lst[i]\n",
        "    return False\n",
        "\n",
        "k = 2\n",
        "l = [4, 2, 1, 3, 6]\n",
        "lst = sorted(l)\n",
        "print(f\"maximum distance between {k} aggressive cows is {aggressive_cows(lst, k)}\")\n"
      ]
    }
  ],
  "metadata": {
    "colab": {
      "provenance": [],
      "authorship_tag": "ABX9TyO/j+y5E0GnTna+8rAqsxcV",
      "include_colab_link": true
    },
    "kernelspec": {
      "display_name": "Python 3",
      "name": "python3"
    },
    "language_info": {
      "name": "python"
    }
  },
  "nbformat": 4,
  "nbformat_minor": 0
}