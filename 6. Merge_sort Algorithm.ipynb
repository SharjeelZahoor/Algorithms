{
  "cells": [
    {
      "cell_type": "markdown",
      "metadata": {
        "id": "view-in-github",
        "colab_type": "text"
      },
      "source": [
        "<a href=\"https://colab.research.google.com/github/SharjeelZahoor/Algorithms/blob/main/6.%20Merge_sort%20Algorithm.ipynb\" target=\"_parent\"><img src=\"https://colab.research.google.com/assets/colab-badge.svg\" alt=\"Open In Colab\"/></a>"
      ]
    },
    {
      "cell_type": "code",
      "source": [
        "def merge_sort(lst):\n",
        "  if len(lst) > 1:\n",
        "    mid = len(lst) // 2\n",
        "    left_lst = lst[:mid]\n",
        "    right_lst = lst[mid:]\n",
        "\n",
        "    merge_sort(left_lst)\n",
        "    merge_sort(right_lst)\n",
        "\n",
        "    i=j=k=0\n",
        "    while i < len(left_lst) and j < len(right_lst):\n",
        "      if left_lst[i] <= right_lst[j]:\n",
        "        lst[k] = left_lst[i]\n",
        "        i+=1\n",
        "      else:\n",
        "        lst[k] = right_lst[j]\n",
        "        j+=1\n",
        "      k+=1\n",
        "\n",
        "    while i < len(left_lst):\n",
        "      lst[k] = left_lst[i]\n",
        "      i+=1\n",
        "      k+=1\n",
        "\n",
        "    while j < len(right_lst):\n",
        "      lst[k] = right_lst[j]\n",
        "      j+=1\n",
        "      k+=1\n",
        "\n",
        "  return lst\n",
        "\n",
        "mylist = [23,2,32,5,6,23,12,2,32,1,45]\n",
        "result = merge_sort(mylist)\n",
        "print(result)\n"
      ],
      "metadata": {
        "colab": {
          "base_uri": "https://localhost:8080/"
        },
        "id": "v40rxncIBGs-",
        "outputId": "e44f7e33-f06e-4e44-8a02-62bf92c991b9"
      },
      "execution_count": 21,
      "outputs": [
        {
          "output_type": "stream",
          "name": "stdout",
          "text": [
            "[1, 2, 2, 5, 6, 12, 23, 23, 32, 32, 45]\n"
          ]
        }
      ]
    },
    {
      "cell_type": "markdown",
      "source": [
        "(Merge Sort Function)\n",
        "\n",
        "Started from if block in we are checking that:\n",
        "\n",
        "if the length of list is more then 1 then do sorting for it."
      ],
      "metadata": {
        "id": "clJXcMqM8r6c"
      }
    },
    {
      "cell_type": "markdown",
      "source": [
        "(Inside IF)\n",
        "\n",
        "we find mid and divide list into two parts left and right list.\n",
        "\n",
        "apply merge sort on each list using recursion."
      ],
      "metadata": {
        "id": "ZTsmzjqc-Fqe"
      }
    },
    {
      "cell_type": "markdown",
      "source": [
        "when each list of them is sorted then check that if\n",
        "\n",
        "small element is in i or equal elements\n",
        "\n",
        "then lst has value of small list[i]\n",
        "\n",
        "otherwise it has value of lst[j]\n",
        "\n"
      ],
      "metadata": {
        "id": "UtpNoZrQ_LdK"
      }
    },
    {
      "cell_type": "markdown",
      "source": [
        "(Last two While loops)\n",
        "\n",
        "Now one case is left which is if one lst is finished then what to do\n",
        "\n",
        "So we use last two while for checking it.\n",
        "\n"
      ],
      "metadata": {
        "id": "QboWZu0N_7zN"
      }
    }
  ],
  "metadata": {
    "colab": {
      "provenance": [],
      "authorship_tag": "ABX9TyPELxtYhRMYQHkdzE/pAArz",
      "include_colab_link": true
    },
    "kernelspec": {
      "display_name": "Python 3",
      "name": "python3"
    },
    "language_info": {
      "name": "python"
    }
  },
  "nbformat": 4,
  "nbformat_minor": 0
}