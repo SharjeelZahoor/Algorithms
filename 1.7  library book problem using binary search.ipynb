{
  "cells": [
    {
      "cell_type": "markdown",
      "metadata": {
        "id": "view-in-github",
        "colab_type": "text"
      },
      "source": [
        "<a href=\"https://colab.research.google.com/github/SharjeelZahoor/Algorithms/blob/main/1.7%20%20library%20book%20problem%20using%20binary%20search.ipynb\" target=\"_parent\"><img src=\"https://colab.research.google.com/assets/colab-badge.svg\" alt=\"Open In Colab\"/></a>"
      ]
    },
    {
      "cell_type": "markdown",
      "source": [
        "For the list of books [10, 20, 30, 40] and 2 students, the code determines the minimum possible maximum pages a student would need to read, which is 60 in this case."
      ],
      "metadata": {
        "id": "oN7notWofD-X"
      }
    },
    {
      "cell_type": "code",
      "execution_count": null,
      "metadata": {
        "colab": {
          "base_uri": "https://localhost:8080/"
        },
        "id": "v40rxncIBGs-",
        "outputId": "4a939f18-3539-4c61-ce45-6c7ec18bf568"
      },
      "outputs": [
        {
          "output_type": "stream",
          "name": "stdout",
          "text": [
            "maximum distance between 2 aggressive cows is 5\n"
          ]
        }
      ],
      "source": [
        "def binary_search_algo(lst,n,student):\n",
        "    s = 0\n",
        "    sum = 0\n",
        "    for i in range(n):\n",
        "        sum += lst[i]\n",
        "    e = sum\n",
        "    ans = -1\n",
        "    mid = s + (e-s)//2\n",
        "    while (s<=e):\n",
        "        if (ispossible(lst,n,student,mid)):\n",
        "            ans = mid\n",
        "            e = mid - 1\n",
        "        else:\n",
        "            s = mid + 1\n",
        "        mid = s + (e - s)//2\n",
        "    return ans\n",
        "\n",
        "def ispossible(lst,n,student,mid):\n",
        "    studentCount = 1\n",
        "    pagesum = 0\n",
        "\n",
        "    for i in range(n):\n",
        "        if pagesum+lst[i] <= mid:\n",
        "            pagesum+= lst[i]\n",
        "        else:\n",
        "            studentCount+=1\n",
        "            if(studentCount > student or lst[i] > mid):\n",
        "                return False\n",
        "    return True\n",
        "\n",
        "\n",
        "\n",
        "n = 4\n",
        "student = 2\n",
        "lst = [10,20,30,40]\n",
        "print(binary_search_algo(lst,n,student))"
      ]
    }
  ],
  "metadata": {
    "colab": {
      "provenance": [],
      "authorship_tag": "ABX9TyOtPdTOeliEddb8X3hxCrmZ",
      "include_colab_link": true
    },
    "kernelspec": {
      "display_name": "Python 3",
      "name": "python3"
    },
    "language_info": {
      "name": "python"
    }
  },
  "nbformat": 4,
  "nbformat_minor": 0
}