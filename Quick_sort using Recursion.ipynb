{
  "nbformat": 4,
  "nbformat_minor": 0,
  "metadata": {
    "colab": {
      "provenance": [],
      "authorship_tag": "ABX9TyOJkxUOX//1MFKBt5d/92xB",
      "include_colab_link": true
    },
    "kernelspec": {
      "name": "python3",
      "display_name": "Python 3"
    },
    "language_info": {
      "name": "python"
    }
  },
  "cells": [
    {
      "cell_type": "markdown",
      "metadata": {
        "id": "view-in-github",
        "colab_type": "text"
      },
      "source": [
        "<a href=\"https://colab.research.google.com/github/SharjeelZahoor/Algorithms/blob/main/Quick_sort%20using%20Recursion.ipynb\" target=\"_parent\"><img src=\"https://colab.research.google.com/assets/colab-badge.svg\" alt=\"Open In Colab\"/></a>"
      ]
    },
    {
      "cell_type": "markdown",
      "source": [
        "Quick Sort Algorithm using Recursion"
      ],
      "metadata": {
        "id": "05GV2xD6Vrsy"
      }
    },
    {
      "cell_type": "markdown",
      "source": [
        "IF BLOCK\n",
        "\n",
        "if the list has 0 or 1 values then we dont have need to sort it so return list.\n",
        "\n",
        "ELSE BLOCK\n",
        "\n",
        "Make first variable a pivot.\n",
        "\n",
        "Then put all the smaller values towards its left and all the larger value to the right.\n"
      ],
      "metadata": {
        "id": "gFkoAOwRWCZa"
      }
    },
    {
      "cell_type": "markdown",
      "source": [
        "Using recursion:\n",
        "\n",
        "Call Quick_sort on smaller values until the subarray is sorted.\n",
        "\n",
        "After sorting it put pivot after smaller values\n",
        "\n",
        "then apply same procedure on larger values that we did on smaller values."
      ],
      "metadata": {
        "id": "bD4qmmu4XTFp"
      }
    },
    {
      "cell_type": "code",
      "execution_count": 15,
      "metadata": {
        "colab": {
          "base_uri": "https://localhost:8080/"
        },
        "id": "8zXz3WcRPr3-",
        "outputId": "7bd00e4e-98e7-43f1-c503-a15e2340f3f3"
      },
      "outputs": [
        {
          "output_type": "stream",
          "name": "stdout",
          "text": [
            "Sorted list = [2, 12, 13, 43, 46, 53, 56, 65, 72, 87]\n"
          ]
        }
      ],
      "source": [
        "def Quick_sort(lst):\n",
        "  if len(lst) <= 1:\n",
        "    return lst\n",
        "  else:\n",
        "    pivot = lst[0]\n",
        "    smaller_values = [x for x in lst[1:] if x <= pivot]\n",
        "    larger_values = [x for x in lst[1:] if x > pivot]\n",
        "    return Quick_sort(smaller_values) + [pivot] + Quick_sort(larger_values)\n",
        "\n",
        "lst = [53, 56, 72, 13, 12, 65, 46, 87, 43, 2]\n",
        "result = Quick_sort(lst)\n",
        "print(\"Sorted list =\", result)"
      ]
    }
  ]
}