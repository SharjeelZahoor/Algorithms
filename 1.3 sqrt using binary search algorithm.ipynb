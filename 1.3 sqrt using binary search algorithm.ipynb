{
  "cells": [
    {
      "cell_type": "markdown",
      "metadata": {
        "id": "view-in-github",
        "colab_type": "text"
      },
      "source": [
        "<a href=\"https://colab.research.google.com/github/SharjeelZahoor/Algorithms/blob/main/1.3%20sqrt%20using%20binary%20search%20algorithm.ipynb\" target=\"_parent\"><img src=\"https://colab.research.google.com/assets/colab-badge.svg\" alt=\"Open In Colab\"/></a>"
      ]
    },
    {
      "cell_type": "markdown",
      "source": [
        "**Binary Search for Square Root**\n",
        "\n",
        "This Python function binary_search_algo_sqrt(key)efficientlyfinds\n",
        "\n",
        "the square root of a number using binary search.\n",
        "\n",
        "**How It Works:**\n",
        "\n",
        "The search starts between 0 and key, narrowing the range by comparing\n",
        "\n",
        "the square of the middle value (mid) to key.\n",
        "\n",
        "If mid * mid equals key, it returns mid.\n",
        "\n",
        "If mid * mid is greater, it searches the left half;\n",
        "\n",
        "if smaller, it searches the right half.\n",
        "\n",
        "If no exact square root is found, it returns the closest lower integer.\n",
        "\n",
        "User Interaction:\n",
        "\n",
        "The user inputs a number, and the program returns its square root.\n",
        "\n",
        "This approach is efficient for large numbers,\n",
        "\n",
        "making binary search a powerful tool for such calculations."
      ],
      "metadata": {
        "id": "rjz0p3M7w-CE"
      }
    },
    {
      "cell_type": "code",
      "execution_count": 39,
      "metadata": {
        "colab": {
          "base_uri": "https://localhost:8080/"
        },
        "id": "v40rxncIBGs-",
        "outputId": "bb1f0730-4f19-404f-fbf7-b9652dbfda86"
      },
      "outputs": [
        {
          "output_type": "stream",
          "name": "stdout",
          "text": [
            "Enter value for square root : 81\n",
            " The square root of 81 is 9\n"
          ]
        }
      ],
      "source": [
        "def binary_search_algo_sqrt(key):\n",
        "    s = 0\n",
        "    e = key\n",
        "    mid = (s + e)//2\n",
        "    ans = -1\n",
        "    while s <= e:\n",
        "        if key == mid * mid:\n",
        "            return mid\n",
        "        elif key < mid * mid:\n",
        "            e = mid - 1\n",
        "            ans = mid\n",
        "        else:\n",
        "           s = mid + 1\n",
        "        mid = (s+e)//2\n",
        "    return ans\n",
        "\n",
        "key = int(input(\"Enter value for square root : \"))\n",
        "result = binary_search_algo_sqrt(key)\n",
        "print(f\" The square root of {key} is {result}\")"
      ]
    }
  ],
  "metadata": {
    "colab": {
      "provenance": [],
      "authorship_tag": "ABX9TyN5TXIUyhDoC+uo1zws7fmy",
      "include_colab_link": true
    },
    "kernelspec": {
      "display_name": "Python 3",
      "name": "python3"
    },
    "language_info": {
      "name": "python"
    }
  },
  "nbformat": 4,
  "nbformat_minor": 0
}