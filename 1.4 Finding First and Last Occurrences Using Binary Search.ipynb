{
  "cells": [
    {
      "cell_type": "markdown",
      "metadata": {
        "id": "view-in-github",
        "colab_type": "text"
      },
      "source": [
        "<a href=\"https://colab.research.google.com/github/SharjeelZahoor/Algorithms/blob/main/1.4%20Finding%20First%20and%20Last%20Occurrences%20Using%20Binary%20Search.ipynb\" target=\"_parent\"><img src=\"https://colab.research.google.com/assets/colab-badge.svg\" alt=\"Open In Colab\"/></a>"
      ]
    },
    {
      "cell_type": "markdown",
      "source": [
        "**Finding First and Last Occurrences Using Binary Search**\n",
        "\n",
        "This Python script efficiently finds the first and last occurrences of a key in a sorted list using binary search.\n"
      ],
      "metadata": {
        "id": "oN7notWofD-X"
      }
    },
    {
      "cell_type": "code",
      "execution_count": null,
      "metadata": {
        "colab": {
          "base_uri": "https://localhost:8080/"
        },
        "id": "v40rxncIBGs-",
        "outputId": "bb1f0730-4f19-404f-fbf7-b9652dbfda86"
      },
      "outputs": [
        {
          "output_type": "stream",
          "name": "stdout",
          "text": [
            "Enter value for square root : 81\n",
            " The square root of 81 is 9\n"
          ]
        }
      ],
      "source": [
        "def first_occ(lst, key):\n",
        "    start = 0\n",
        "    end = len(lst)-1\n",
        "    middle = (start + end) // 2\n",
        "    ans = 0\n",
        "    while start <= end:\n",
        "        if lst[middle] == key:\n",
        "            ans = middle\n",
        "            end = middle - 1\n",
        "        elif lst[middle] < key:\n",
        "            start = middle + 1\n",
        "        elif lst[middle] > key:\n",
        "            end = middle - 1\n",
        "        middle = (start + end)//2\n",
        "    return ans\n",
        "\n",
        "\n",
        "def last_occ(lst, key):\n",
        "    start = 0\n",
        "    end = len(lst)-1\n",
        "    ans = 0\n",
        "    middle = (start + end) // 2\n",
        "    while start <= end:\n",
        "        if lst[middle] == key:\n",
        "            ans = middle\n",
        "            start = middle + 1\n",
        "        elif lst[middle] < key:\n",
        "            start = middle + 1\n",
        "        elif lst[middle] > key:\n",
        "            end = middle - 1\n",
        "        middle = (start+end)//2\n",
        "    return ans\n",
        "\n",
        "\n",
        "lst = sorted(list(map(int, input().split())))\n",
        "print(lst)\n",
        "key = int(input())\n",
        "result = first_occ(lst, key)\n",
        "print(f\"first occurrence of {key} is at index : {result}\")\n",
        "result = last_occ(lst, key)\n",
        "print(f\"Last occurrence of {key} is at index : {result}\")"
      ]
    },
    {
      "cell_type": "markdown",
      "source": [
        "**Functions Overview:**\n",
        "\n",
        "first_occ(lst, key): Locates the first occurrence of the key. It narrows the search range by adjusting the end pointer once the key is found, ensuring the earliest index is captured. last_occ(lst, key): Locates the last occurrence of the key. Here, the start pointer is adjusted after finding the key, capturing the latest index.\n",
        "\n",
        "**How It Works:**\n",
        "\n",
        "Both functions use binary search, which divides the search range in half with each iteration, making the process fast and efficient. The list is sorted before searching to ensure binary search operates correctly."
      ],
      "metadata": {
        "id": "uxzX2WoUfeGc"
      }
    }
  ],
  "metadata": {
    "colab": {
      "provenance": [],
      "authorship_tag": "ABX9TyNZ7xo1sg2CWuNMRtEbVEk4",
      "include_colab_link": true
    },
    "kernelspec": {
      "display_name": "Python 3",
      "name": "python3"
    },
    "language_info": {
      "name": "python"
    }
  },
  "nbformat": 4,
  "nbformat_minor": 0
}