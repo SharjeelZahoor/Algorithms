{
  "cells": [
    {
      "cell_type": "markdown",
      "metadata": {
        "id": "view-in-github",
        "colab_type": "text"
      },
      "source": [
        "<a href=\"https://colab.research.google.com/github/SharjeelZahoor/Algorithms/blob/main/1.5%20%20peak%20value%20of%20mountain_list.ipynb\" target=\"_parent\"><img src=\"https://colab.research.google.com/assets/colab-badge.svg\" alt=\"Open In Colab\"/></a>"
      ]
    },
    {
      "cell_type": "markdown",
      "source": [
        "**Finding the Peak Value in a Mountain List**\n",
        "\n",
        "In this Python function, mountain_list_peak_value,\n",
        "\n",
        "we're solving the problem of finding the peak value in a\n",
        "\n",
        "\"mountain list\" (a list that first increases and then decreases).\n",
        "\n",
        "The function efficiently locates the peak using\n",
        "\n",
        "a binary search approach.\n"
      ],
      "metadata": {
        "id": "oN7notWofD-X"
      }
    },
    {
      "cell_type": "code",
      "execution_count": 3,
      "metadata": {
        "colab": {
          "base_uri": "https://localhost:8080/"
        },
        "id": "v40rxncIBGs-",
        "outputId": "333a7f82-6389-4eb2-c866-fb37b08d086c"
      },
      "outputs": [
        {
          "output_type": "stream",
          "name": "stdout",
          "text": [
            "Peak Value is :  76\n"
          ]
        }
      ],
      "source": [
        "def mountain_list_peak_value(lst):\n",
        "    start = 0\n",
        "    end = len(lst)-1\n",
        "    middle = (start + end)//2\n",
        "    while start < end:\n",
        "        if lst[middle] < lst[middle+1]:\n",
        "            start = middle+1\n",
        "        else:\n",
        "            end = middle\n",
        "        middle = (start+end)//2\n",
        "    return lst[start]\n",
        "\n",
        "lst = [1,3,4,5,6,23,76,22,12,4,2,1]\n",
        "result = mountain_list_peak_value(lst)\n",
        "print(\"Peak Value is : \", result)"
      ]
    }
  ],
  "metadata": {
    "colab": {
      "provenance": [],
      "authorship_tag": "ABX9TyP9yVg+VSYew7pd/5bkjaYE",
      "include_colab_link": true
    },
    "kernelspec": {
      "display_name": "Python 3",
      "name": "python3"
    },
    "language_info": {
      "name": "python"
    }
  },
  "nbformat": 4,
  "nbformat_minor": 0
}