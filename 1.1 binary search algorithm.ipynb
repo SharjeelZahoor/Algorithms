{
  "cells": [
    {
      "cell_type": "markdown",
      "metadata": {
        "id": "view-in-github",
        "colab_type": "text"
      },
      "source": [
        "<a href=\"https://colab.research.google.com/github/SharjeelZahoor/Algorithms/blob/main/1.1%20binary%20search%20algorithm.ipynb\" target=\"_parent\"><img src=\"https://colab.research.google.com/assets/colab-badge.svg\" alt=\"Open In Colab\"/></a>"
      ]
    },
    {
      "cell_type": "markdown",
      "source": [
        "Applying Binary Search Algorithm on a Sorted List."
      ],
      "metadata": {
        "id": "BNEFEKhZiwAp"
      }
    },
    {
      "cell_type": "code",
      "source": [
        "def binary_search_algo(lst, key):\n",
        "    start = 0\n",
        "    end = len(lst) -1\n",
        "    while start <= end:\n",
        "        middle = (start + end) // 2\n",
        "        if lst[middle] == key:\n",
        "            return middle\n",
        "        elif lst[middle] < key:\n",
        "            start = middle + 1\n",
        "        else:\n",
        "            end = middle - 1\n",
        "    return -1\n",
        "\n",
        "lst = [2,4,6,8,10,12,14]\n",
        "key = 12\n",
        "result = binary_search_algo(lst, key)\n",
        "print(\"Your key is at index : \",result)"
      ],
      "metadata": {
        "colab": {
          "base_uri": "https://localhost:8080/"
        },
        "id": "v6fynRT4ixhL",
        "outputId": "dd60ede0-ad8f-424e-9dba-ebcf35b561c5"
      },
      "execution_count": 15,
      "outputs": [
        {
          "output_type": "stream",
          "name": "stdout",
          "text": [
            "Your key is at index :  5\n"
          ]
        }
      ]
    }
  ],
  "metadata": {
    "colab": {
      "provenance": [],
      "authorship_tag": "ABX9TyP5gQ5zMLCEpwe4ieqayz4g",
      "include_colab_link": true
    },
    "kernelspec": {
      "display_name": "Python 3",
      "name": "python3"
    },
    "language_info": {
      "name": "python"
    }
  },
  "nbformat": 4,
  "nbformat_minor": 0
}
